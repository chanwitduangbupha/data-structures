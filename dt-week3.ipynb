{
 "cells": [
  {
   "cell_type": "code",
   "execution_count": null,
   "id": "065c47d0",
   "metadata": {},
   "outputs": [
    {
     "name": "stdout",
     "output_type": "stream",
     "text": [
      "14\n"
     ]
    }
   ],
   "source": [
    "#find data\n",
    "text = \"เจ้หงษ์เป็นชาวจีนสาวสองน่ารักอบอุ่น\"\n",
    "position = text.find(\"จีน\")\n",
    "print(position)"
   ]
  },
  {
   "cell_type": "code",
   "execution_count": null,
   "id": "eaaa2245",
   "metadata": {},
   "outputs": [
    {
     "name": "stdout",
     "output_type": "stream",
     "text": [
      "['ฉันชอบกินไก่KFCซึ่งมีหลายเมนูเช่นไก่ป๊อปลาบและอื่นๆ']\n"
     ]
    }
   ],
   "source": [
    "#split data\n",
    "text = \"ฉันชอบกินไก่KFCซึ่งมีหลายเมนูเช่นไก่ป๊อปลาบและอื่นๆ\"\n",
    "words = text.split()\n",
    "print(words)"
   ]
  },
  {
   "cell_type": "code",
   "execution_count": null,
   "id": "8930618f",
   "metadata": {},
   "outputs": [
    {
     "name": "stdout",
     "output_type": "stream",
     "text": [
      "['ฉันชอบกินไก่', 'KFC;', 'ซึ่งมีหลายเมนู', 'เช่น', 'ไก่ป๊อป;', 'ลาบ', 'ไก่ปีก', 'และอื่นๆ']\n"
     ]
    }
   ],
   "source": [
    "#Split data\n",
    "text = \"ฉันชอบกินไก่ KFC; ซึ่งมีหลายเมนู เช่น ไก่ป๊อป; ลาบ ไก่ปีก และอื่นๆ\"\n",
    "words = text.split()\n",
    "print(words)"
   ]
  },
  {
   "cell_type": "code",
   "execution_count": 20,
   "id": "ac837685",
   "metadata": {},
   "outputs": [
    {
     "name": "stdout",
     "output_type": "stream",
     "text": [
      "CATวิ่ง CATกระโดด CATวิ่งหนี CATโดนไล่ หมาวิ่งไล่CAT\n"
     ]
    }
   ],
   "source": [
    "#Replace function\n",
    "text = \"แมววิ่ง แมวกระโดด แมววิ่งหนี แมวโดนไล่ หมาวิ่งไล่แมว\"\n",
    "new_text = text.replace(\"แมว\", \"CAT\")\n",
    "print(new_text)"
   ]
  },
  {
   "cell_type": "code",
   "execution_count": 24,
   "id": "bd4b5820",
   "metadata": {},
   "outputs": [
    {
     "name": "stdout",
     "output_type": "stream",
     "text": [
      "8\n",
      "2\n"
     ]
    }
   ],
   "source": [
    "#Len Function\n",
    "text = \"แมว หมา \"\n",
    "print(len(text))\n",
    "\n",
    "word1 = [\"หมา\", \"แมว\", \"เสือ\", \"สิงโต\"]\n",
    "word2 = {\"หมา\", \"แมว\", \"เสือ\", \"สิงโต\"}\n",
    "word3 = {\"key\":\"data-type\", \"value\":1}\n",
    "print(len(word3))"
   ]
  },
  {
   "cell_type": "code",
   "execution_count": null,
   "id": "23eb7c07",
   "metadata": {},
   "outputs": [
    {
     "name": "stdout",
     "output_type": "stream",
     "text": [
      "you never work alone\n"
     ]
    }
   ],
   "source": [
    "#Lower\n",
    "text = \"You'll Never Walk Alone\"\n",
    "print(text.lower())"
   ]
  },
  {
   "cell_type": "code",
   "execution_count": null,
   "id": "a4d83582",
   "metadata": {},
   "outputs": [
    {
     "name": "stdout",
     "output_type": "stream",
     "text": [
      "YOU NEVER WALK ALONE\n"
     ]
    }
   ],
   "source": [
    "#Upper\n",
    "text = \"You'll Never Walk Alone\"\n",
    "print(text.upper())"
   ]
  },
  {
   "cell_type": "code",
   "execution_count": 28,
   "id": "dfa28e2f",
   "metadata": {},
   "outputs": [
    {
     "name": "stdout",
     "output_type": "stream",
     "text": [
      "เก่า =>  71\n",
      "ใหม่ =>  65\n"
     ]
    }
   ],
   "source": [
    "#Strip\n",
    "text = \"   >>>> วันนี้วันดี ที่เราได้มาพบกัน วันนี้วันจันทร์ มีตลาดมืดนะ !!!   \"\n",
    "new_text = text.strip()\n",
    "print(\"เก่า => \", len(text))\n",
    "print(\"ใหม่ => \", len(new_text))\n"
   ]
  }
 ],
 "metadata": {
  "kernelspec": {
   "display_name": "base",
   "language": "python",
   "name": "python3"
  },
  "language_info": {
   "codemirror_mode": {
    "name": "ipython",
    "version": 3
   },
   "file_extension": ".py",
   "mimetype": "text/x-python",
   "name": "python",
   "nbconvert_exporter": "python",
   "pygments_lexer": "ipython3",
   "version": "3.12.7"
  }
 },
 "nbformat": 4,
 "nbformat_minor": 5
}
